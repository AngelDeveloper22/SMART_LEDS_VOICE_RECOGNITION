{
  "nbformat": 4,
  "nbformat_minor": 0,
  "metadata": {
    "colab": {
      "provenance": []
    },
    "kernelspec": {
      "name": "python3",
      "display_name": "Python 3"
    },
    "language_info": {
      "name": "python"
    }
  },
  "cells": [
    {
      "cell_type": "code",
      "execution_count": null,
      "metadata": {
        "id": "KVZfWPF8iTtg"
      },
      "outputs": [],
      "source": [
        "!pip install tensorflow-gpu==2.8.0\n",
        "import tensorflow as tf\n",
        "\n",
        "!pip install tensorflow-io==0.25.0"
      ]
    },
    {
      "cell_type": "code",
      "source": [
        "import os\n",
        "from matplotlib import pyplot as plt\n",
        "import tensorflow as tf\n",
        "import tensorflow_io as tfio\n",
        "import librosa\n",
        "import librosa.display\n",
        "import IPython.display as ipd\n",
        "import numpy as np"
      ],
      "metadata": {
        "id": "sh2g8G-8iY4i"
      },
      "execution_count": null,
      "outputs": []
    },
    {
      "cell_type": "code",
      "source": [
        "\"OBTAINING A LIST OF AUDIO FILES\"\n",
        "personal_files = os.path.join('.','voice_recods','me_wav')\n",
        "personal_files_2 = os.path.join('.','voice_recods','new_me_wav')\n",
        "other_files = os.path.join('.','voice_recods','new_others_wav')"
      ],
      "metadata": {
        "id": "oVOjzyseis09"
      },
      "execution_count": null,
      "outputs": []
    },
    {
      "cell_type": "code",
      "source": [
        "ls"
      ],
      "metadata": {
        "colab": {
          "base_uri": "https://localhost:8080/"
        },
        "id": "meAwtn55jXOW",
        "outputId": "64299d7e-db21-4762-aeae-6926c09abfaa"
      },
      "execution_count": null,
      "outputs": [
        {
          "output_type": "stream",
          "name": "stdout",
          "text": [
            "\u001b[0m\u001b[01;34msample_data\u001b[0m/  \u001b[01;34mvoice_recods\u001b[0m/\n"
          ]
        }
      ]
    },
    {
      "cell_type": "code",
      "source": [
        "\"\"\"CREATING TENSORFLOW DATASET\"\"\"\n",
        "pos = tf.data.Dataset.list_files(personal_files+'/*.wav')\n",
        "pos_2 = tf.data.Dataset.list_files(personal_files_2+'/*.wav')\n",
        "neg = tf.data.Dataset.list_files(other_files+'/*.wav')\n",
        "\n",
        "\"\"\"Adding labels\"\"\"\n",
        "positives = tf.data.Dataset.zip((pos, tf.data.Dataset.from_tensor_slices(tf.ones(len(pos)))))\n",
        "positives_2 = tf.data.Dataset.zip((pos_2, tf.data.Dataset.from_tensor_slices(tf.ones(len(pos)))))\n",
        "negatives = tf.data.Dataset.zip((neg, tf.data.Dataset.from_tensor_slices(tf.zeros(len(neg)))))\n",
        "data = positives.concatenate(negatives)\n",
        "data = data.concatenate(positives_2)"
      ],
      "metadata": {
        "id": "49Ok5QOai_J2"
      },
      "execution_count": null,
      "outputs": []
    },
    {
      "cell_type": "code",
      "source": [
        "#DEFINING DATA LOADING FUNCTION\n",
        "def load_wav(filename):\n",
        "    file_contents = tf.io.read_file(filename) #loading file\n",
        "    wav, sample_rate = tf.audio.decode_wav(file_contents, desired_channels=1) #simplfying audio in one dimension representation\n",
        "    #removes trailing axis\n",
        "    wav = tf.squeeze(wav, axis=-1)\n",
        "    sample_rate = tf.cast(sample_rate, dtype=tf.int64)\n",
        "    #The signal goes from 44100 Hz to 16000hz - amplitude of the audio signal\n",
        "    wav = tfio.audio.resample(wav, rate_in=sample_rate, rate_out=16000)\n",
        "    return wav"
      ],
      "metadata": {
        "id": "oH_p7NdnjklV"
      },
      "execution_count": null,
      "outputs": []
    },
    {
      "cell_type": "code",
      "source": [
        "\"\"\"Pre processing\"\"\"\n",
        "def preprocess(file_path):\n",
        "    wav = load_wav(file_path)\n",
        "    wav = wav[:25000]\n",
        "    zero_padding = tf.zeros([25000] - tf.shape(wav), dtype=tf.float32)\n",
        "    wav = tf.concat([zero_padding, wav],0)\n",
        "    spectrogram = tf.signal.stft(wav, frame_length=320, frame_step=32)\n",
        "    spectrogram = tf.abs(spectrogram)\n",
        "    spectrogram = tf.expand_dims(spectrogram, axis=2)\n",
        "    return spectrogram"
      ],
      "metadata": {
        "id": "WDMAmtHWjpEi"
      },
      "execution_count": null,
      "outputs": []
    },
    {
      "cell_type": "code",
      "source": [
        "wav = preprocess('./voice_recods/me_wav/Recording (77).wav')\n",
        "np.shape(wav)"
      ],
      "metadata": {
        "colab": {
          "base_uri": "https://localhost:8080/"
        },
        "id": "UWwEmnl2tRWB",
        "outputId": "2d027662-8cb7-40d2-ee9c-580352a91764"
      },
      "execution_count": null,
      "outputs": [
        {
          "output_type": "execute_result",
          "data": {
            "text/plain": [
              "TensorShape([772, 257, 1])"
            ]
          },
          "metadata": {},
          "execution_count": 56
        }
      ]
    },
    {
      "cell_type": "code",
      "source": [
        "# Creating spectrograms\n",
        "data_op = data.map(preprocess)\n",
        "data_op = data_op.cache()\n",
        "data_op = data_op.shuffle(buffer_size=1000)\n",
        "data_op = data_op.batch(8)\n",
        "data_op = data_op.prefetch(8) #avoids bottlenecking"
      ],
      "metadata": {
        "colab": {
          "base_uri": "https://localhost:8080/"
        },
        "id": "ONd1Ct0ikDOs",
        "outputId": "d6d9cc74-06ed-4e61-c3e5-6d77a440c5f4"
      },
      "execution_count": null,
      "outputs": [
        {
          "output_type": "stream",
          "name": "stderr",
          "text": [
            "WARNING:tensorflow:Using a while_loop for converting IO>AudioResample\n"
          ]
        }
      ]
    },
    {
      "cell_type": "code",
      "source": [
        "#Splitting into trainning and testing\n",
        "print(len(data_op))\n",
        "train = data_op.take(16)\n",
        "test = data_op.skip(16).take(8)"
      ],
      "metadata": {
        "colab": {
          "base_uri": "https://localhost:8080/"
        },
        "id": "ybjADbG9n4WV",
        "outputId": "92b82bf2-3af2-4e9f-dfe1-3b1d3dbfb890"
      },
      "execution_count": null,
      "outputs": [
        {
          "output_type": "stream",
          "name": "stdout",
          "text": [
            "45\n"
          ]
        }
      ]
    },
    {
      "cell_type": "code",
      "source": [
        "#importing packages for building the AI model\n",
        "from tensorflow.keras.models import Sequential\n",
        "from tensorflow.keras.layers import Conv2D, Dense, Flatten, MaxPooling2D"
      ],
      "metadata": {
        "id": "UX4pS7hqncG6"
      },
      "execution_count": null,
      "outputs": []
    },
    {
      "cell_type": "code",
      "source": [
        "\"\"\"Designing the network with convolutional and dense layers\"\"\"\n",
        "model = Sequential()\n",
        "model.add(Conv2D(16, (3,3), activation='relu', input_shape=(772,257,1)))\n",
        "model.add(Conv2D(16, (3,3), activation='relu'))\n",
        "model.add(MaxPooling2D(pool_size=(2,2), strides=None, padding=\"valid\", data_format=None))\n",
        "#model.add(MaxPooling2D(pool_size=(2,2), strides=None, padding=\"valid\", data_format=None))\n",
        "model.add(Flatten())\n",
        "model.add(Dense(64, activation='relu'))\n",
        "model.add(Dense(64, activation='relu'))\n",
        "model.add(Dense(1, activation='sigmoid'))\n",
        "opt = tf.keras.optimizers.Adam(learning_rate = 0.01)"
      ],
      "metadata": {
        "id": "GxJm6EqGndF3"
      },
      "execution_count": null,
      "outputs": []
    },
    {
      "cell_type": "code",
      "source": [
        "model.compile(optimizer=opt,loss='BinaryCrossentropy', metrics=\"accuracy\")\n",
        "model.summary()"
      ],
      "metadata": {
        "colab": {
          "base_uri": "https://localhost:8080/"
        },
        "id": "gtdE5z2-nq1S",
        "outputId": "1b9fc8da-1f0c-40fc-aaa1-f802d2f533c0"
      },
      "execution_count": null,
      "outputs": [
        {
          "output_type": "stream",
          "name": "stdout",
          "text": [
            "Model: \"sequential_6\"\n",
            "_________________________________________________________________\n",
            " Layer (type)                Output Shape              Param #   \n",
            "=================================================================\n",
            " conv2d_12 (Conv2D)          (None, 770, 255, 16)      160       \n",
            "                                                                 \n",
            " conv2d_13 (Conv2D)          (None, 768, 253, 16)      2320      \n",
            "                                                                 \n",
            " max_pooling2d_6 (MaxPooling  (None, 384, 126, 16)     0         \n",
            " 2D)                                                             \n",
            "                                                                 \n",
            " flatten_6 (Flatten)         (None, 774144)            0         \n",
            "                                                                 \n",
            " dense_17 (Dense)            (None, 64)                49545280  \n",
            "                                                                 \n",
            " dense_18 (Dense)            (None, 64)                4160      \n",
            "                                                                 \n",
            " dense_19 (Dense)            (None, 1)                 65        \n",
            "                                                                 \n",
            "=================================================================\n",
            "Total params: 49,551,985\n",
            "Trainable params: 49,551,985\n",
            "Non-trainable params: 0\n",
            "_________________________________________________________________\n"
          ]
        }
      ]
    },
    {
      "cell_type": "code",
      "source": [
        "\"\"\"Training the model\"\"\"\n",
        "hist = model.fit(train, epochs=1,validation_data=test)"
      ],
      "metadata": {
        "colab": {
          "base_uri": "https://localhost:8080/"
        },
        "id": "p6Mh_sl3ntoW",
        "outputId": "e86d9130-fa84-4886-dbf2-1361c41bf6ec"
      },
      "execution_count": null,
      "outputs": [
        {
          "output_type": "stream",
          "name": "stdout",
          "text": [
            "16/16 [==============================] - 40s 2s/step - loss: 0.0395 - accuracy: 0.9922 - val_loss: 0.0537 - val_accuracy: 0.9844\n"
          ]
        }
      ]
    },
    {
      "cell_type": "code",
      "source": [
        "from google.colab import files"
      ],
      "metadata": {
        "id": "wDQ7uMToNBAU"
      },
      "execution_count": null,
      "outputs": []
    },
    {
      "cell_type": "code",
      "source": [
        "!mkdir -p saved_model\n",
        "model.save('saved_model\\my_model_angel')"
      ],
      "metadata": {
        "id": "CQX5gqS6NEtH"
      },
      "execution_count": null,
      "outputs": []
    },
    {
      "cell_type": "code",
      "source": [
        "predictions = model.predict(test)"
      ],
      "metadata": {
        "id": "AcH8-KQosBiT"
      },
      "execution_count": null,
      "outputs": []
    },
    {
      "cell_type": "code",
      "source": [
        "audio_slices = tf.keras.utils.timeseries"
      ],
      "metadata": {
        "id": "ZyG9VtoYvd2b"
      },
      "execution_count": null,
      "outputs": []
    },
    {
      "cell_type": "code",
      "source": [
        "predictions"
      ],
      "metadata": {
        "colab": {
          "base_uri": "https://localhost:8080/"
        },
        "id": "W_GIGSnwswi9",
        "outputId": "3c868982-f14a-473c-9369-41be734ef705"
      },
      "execution_count": null,
      "outputs": [
        {
          "output_type": "execute_result",
          "data": {
            "text/plain": [
              "array([[1.0000000e+00],\n",
              "       [1.0000000e+00],\n",
              "       [1.0000000e+00],\n",
              "       [2.2193979e-14],\n",
              "       [9.9998736e-01],\n",
              "       [1.7726925e-01],\n",
              "       [1.0000000e+00],\n",
              "       [1.4451084e-01],\n",
              "       [9.9999845e-01],\n",
              "       [2.4208400e-01],\n",
              "       [9.9980259e-01],\n",
              "       [9.9999917e-01],\n",
              "       [1.3975117e-07],\n",
              "       [8.2715858e-17],\n",
              "       [1.0900059e-12],\n",
              "       [1.0000000e+00],\n",
              "       [9.9997419e-01],\n",
              "       [5.4610912e-12],\n",
              "       [1.0000000e+00],\n",
              "       [1.0000000e+00],\n",
              "       [1.0000000e+00],\n",
              "       [1.0000000e+00],\n",
              "       [1.0000000e+00],\n",
              "       [6.1410666e-04],\n",
              "       [1.0000000e+00],\n",
              "       [1.0000000e+00],\n",
              "       [1.0000000e+00],\n",
              "       [1.0000000e+00],\n",
              "       [9.9999958e-01],\n",
              "       [6.6128560e-14],\n",
              "       [1.5283927e-16],\n",
              "       [1.0000000e+00],\n",
              "       [2.0408321e-27],\n",
              "       [1.0000000e+00],\n",
              "       [1.0000000e+00],\n",
              "       [1.0000000e+00],\n",
              "       [9.9999988e-01],\n",
              "       [1.0000000e+00],\n",
              "       [1.0000000e+00],\n",
              "       [1.0000000e+00],\n",
              "       [3.2843333e-14],\n",
              "       [1.0000000e+00],\n",
              "       [3.1542164e-20],\n",
              "       [1.0000000e+00],\n",
              "       [1.0000000e+00],\n",
              "       [6.1577041e-21],\n",
              "       [4.7665869e-22],\n",
              "       [1.0000000e+00],\n",
              "       [2.4030306e-25],\n",
              "       [1.0000000e+00],\n",
              "       [1.6273224e-01],\n",
              "       [3.8483574e-27],\n",
              "       [1.0000000e+00],\n",
              "       [1.0000000e+00],\n",
              "       [1.0000000e+00],\n",
              "       [1.0000000e+00],\n",
              "       [9.9999881e-01],\n",
              "       [1.0000000e+00],\n",
              "       [4.5221243e-11],\n",
              "       [8.1161637e-21],\n",
              "       [3.7136621e-13],\n",
              "       [1.0000000e+00],\n",
              "       [1.0000000e+00],\n",
              "       [1.0000000e+00]], dtype=float32)"
            ]
          },
          "metadata": {},
          "execution_count": 62
        }
      ]
    }
  ]
}